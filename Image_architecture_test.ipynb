{
  "nbformat": 4,
  "nbformat_minor": 0,
  "metadata": {
    "colab": {
      "provenance": [],
      "authorship_tag": "ABX9TyMjlJlfAKYbhKM2LF2MTJ/Q",
      "include_colab_link": true
    },
    "kernelspec": {
      "name": "python3",
      "display_name": "Python 3"
    },
    "language_info": {
      "name": "python"
    }
  },
  "cells": [
    {
      "cell_type": "markdown",
      "metadata": {
        "id": "view-in-github",
        "colab_type": "text"
      },
      "source": [
        "<a href=\"https://colab.research.google.com/github/Battlecruiser1/Plant_analysis/blob/main/Image_architecture_test.ipynb\" target=\"_parent\"><img src=\"https://colab.research.google.com/assets/colab-badge.svg\" alt=\"Open In Colab\"/></a>"
      ]
    },
    {
      "cell_type": "code",
      "source": [
        "import xml.etree.ElementTree as ET"
      ],
      "metadata": {
        "id": "SvTG2fQyDF9B"
      },
      "execution_count": null,
      "outputs": []
    },
    {
      "cell_type": "code",
      "execution_count": null,
      "metadata": {
        "colab": {
          "base_uri": "https://localhost:8080/",
          "height": 76
        },
        "id": "SptDfyJ6B3Oj",
        "outputId": "f81954b5-a602-4dbd-de23-44f39353ffab"
      },
      "outputs": [
        {
          "output_type": "display_data",
          "data": {
            "text/plain": [
              "<IPython.core.display.HTML object>"
            ],
            "text/html": [
              "\n",
              "     <input type=\"file\" id=\"files-5b1d1c2d-88e9-4cd7-b6e5-7c10482c2726\" name=\"files[]\" multiple disabled\n",
              "        style=\"border:none\" />\n",
              "     <output id=\"result-5b1d1c2d-88e9-4cd7-b6e5-7c10482c2726\">\n",
              "      Upload widget is only available when the cell has been executed in the\n",
              "      current browser session. Please rerun this cell to enable.\n",
              "      </output>\n",
              "      <script>// Copyright 2017 Google LLC\n",
              "//\n",
              "// Licensed under the Apache License, Version 2.0 (the \"License\");\n",
              "// you may not use this file except in compliance with the License.\n",
              "// You may obtain a copy of the License at\n",
              "//\n",
              "//      http://www.apache.org/licenses/LICENSE-2.0\n",
              "//\n",
              "// Unless required by applicable law or agreed to in writing, software\n",
              "// distributed under the License is distributed on an \"AS IS\" BASIS,\n",
              "// WITHOUT WARRANTIES OR CONDITIONS OF ANY KIND, either express or implied.\n",
              "// See the License for the specific language governing permissions and\n",
              "// limitations under the License.\n",
              "\n",
              "/**\n",
              " * @fileoverview Helpers for google.colab Python module.\n",
              " */\n",
              "(function(scope) {\n",
              "function span(text, styleAttributes = {}) {\n",
              "  const element = document.createElement('span');\n",
              "  element.textContent = text;\n",
              "  for (const key of Object.keys(styleAttributes)) {\n",
              "    element.style[key] = styleAttributes[key];\n",
              "  }\n",
              "  return element;\n",
              "}\n",
              "\n",
              "// Max number of bytes which will be uploaded at a time.\n",
              "const MAX_PAYLOAD_SIZE = 100 * 1024;\n",
              "\n",
              "function _uploadFiles(inputId, outputId) {\n",
              "  const steps = uploadFilesStep(inputId, outputId);\n",
              "  const outputElement = document.getElementById(outputId);\n",
              "  // Cache steps on the outputElement to make it available for the next call\n",
              "  // to uploadFilesContinue from Python.\n",
              "  outputElement.steps = steps;\n",
              "\n",
              "  return _uploadFilesContinue(outputId);\n",
              "}\n",
              "\n",
              "// This is roughly an async generator (not supported in the browser yet),\n",
              "// where there are multiple asynchronous steps and the Python side is going\n",
              "// to poll for completion of each step.\n",
              "// This uses a Promise to block the python side on completion of each step,\n",
              "// then passes the result of the previous step as the input to the next step.\n",
              "function _uploadFilesContinue(outputId) {\n",
              "  const outputElement = document.getElementById(outputId);\n",
              "  const steps = outputElement.steps;\n",
              "\n",
              "  const next = steps.next(outputElement.lastPromiseValue);\n",
              "  return Promise.resolve(next.value.promise).then((value) => {\n",
              "    // Cache the last promise value to make it available to the next\n",
              "    // step of the generator.\n",
              "    outputElement.lastPromiseValue = value;\n",
              "    return next.value.response;\n",
              "  });\n",
              "}\n",
              "\n",
              "/**\n",
              " * Generator function which is called between each async step of the upload\n",
              " * process.\n",
              " * @param {string} inputId Element ID of the input file picker element.\n",
              " * @param {string} outputId Element ID of the output display.\n",
              " * @return {!Iterable<!Object>} Iterable of next steps.\n",
              " */\n",
              "function* uploadFilesStep(inputId, outputId) {\n",
              "  const inputElement = document.getElementById(inputId);\n",
              "  inputElement.disabled = false;\n",
              "\n",
              "  const outputElement = document.getElementById(outputId);\n",
              "  outputElement.innerHTML = '';\n",
              "\n",
              "  const pickedPromise = new Promise((resolve) => {\n",
              "    inputElement.addEventListener('change', (e) => {\n",
              "      resolve(e.target.files);\n",
              "    });\n",
              "  });\n",
              "\n",
              "  const cancel = document.createElement('button');\n",
              "  inputElement.parentElement.appendChild(cancel);\n",
              "  cancel.textContent = 'Cancel upload';\n",
              "  const cancelPromise = new Promise((resolve) => {\n",
              "    cancel.onclick = () => {\n",
              "      resolve(null);\n",
              "    };\n",
              "  });\n",
              "\n",
              "  // Wait for the user to pick the files.\n",
              "  const files = yield {\n",
              "    promise: Promise.race([pickedPromise, cancelPromise]),\n",
              "    response: {\n",
              "      action: 'starting',\n",
              "    }\n",
              "  };\n",
              "\n",
              "  cancel.remove();\n",
              "\n",
              "  // Disable the input element since further picks are not allowed.\n",
              "  inputElement.disabled = true;\n",
              "\n",
              "  if (!files) {\n",
              "    return {\n",
              "      response: {\n",
              "        action: 'complete',\n",
              "      }\n",
              "    };\n",
              "  }\n",
              "\n",
              "  for (const file of files) {\n",
              "    const li = document.createElement('li');\n",
              "    li.append(span(file.name, {fontWeight: 'bold'}));\n",
              "    li.append(span(\n",
              "        `(${file.type || 'n/a'}) - ${file.size} bytes, ` +\n",
              "        `last modified: ${\n",
              "            file.lastModifiedDate ? file.lastModifiedDate.toLocaleDateString() :\n",
              "                                    'n/a'} - `));\n",
              "    const percent = span('0% done');\n",
              "    li.appendChild(percent);\n",
              "\n",
              "    outputElement.appendChild(li);\n",
              "\n",
              "    const fileDataPromise = new Promise((resolve) => {\n",
              "      const reader = new FileReader();\n",
              "      reader.onload = (e) => {\n",
              "        resolve(e.target.result);\n",
              "      };\n",
              "      reader.readAsArrayBuffer(file);\n",
              "    });\n",
              "    // Wait for the data to be ready.\n",
              "    let fileData = yield {\n",
              "      promise: fileDataPromise,\n",
              "      response: {\n",
              "        action: 'continue',\n",
              "      }\n",
              "    };\n",
              "\n",
              "    // Use a chunked sending to avoid message size limits. See b/62115660.\n",
              "    let position = 0;\n",
              "    do {\n",
              "      const length = Math.min(fileData.byteLength - position, MAX_PAYLOAD_SIZE);\n",
              "      const chunk = new Uint8Array(fileData, position, length);\n",
              "      position += length;\n",
              "\n",
              "      const base64 = btoa(String.fromCharCode.apply(null, chunk));\n",
              "      yield {\n",
              "        response: {\n",
              "          action: 'append',\n",
              "          file: file.name,\n",
              "          data: base64,\n",
              "        },\n",
              "      };\n",
              "\n",
              "      let percentDone = fileData.byteLength === 0 ?\n",
              "          100 :\n",
              "          Math.round((position / fileData.byteLength) * 100);\n",
              "      percent.textContent = `${percentDone}% done`;\n",
              "\n",
              "    } while (position < fileData.byteLength);\n",
              "  }\n",
              "\n",
              "  // All done.\n",
              "  yield {\n",
              "    response: {\n",
              "      action: 'complete',\n",
              "    }\n",
              "  };\n",
              "}\n",
              "\n",
              "scope.google = scope.google || {};\n",
              "scope.google.colab = scope.google.colab || {};\n",
              "scope.google.colab._files = {\n",
              "  _uploadFiles,\n",
              "  _uploadFilesContinue,\n",
              "};\n",
              "})(self);\n",
              "</script> "
            ]
          },
          "metadata": {}
        },
        {
          "output_type": "stream",
          "name": "stdout",
          "text": [
            "Saving annotations.xml to annotations.xml\n"
          ]
        }
      ],
      "source": [
        "# Google Colab에 annotations.xml 업로드\n",
        "from google.colab import files\n",
        "uploaded = files.upload()"
      ]
    },
    {
      "cell_type": "code",
      "source": [
        "xml_file = list(uploaded.keys())[0]"
      ],
      "metadata": {
        "id": "Ivj5taJWDmYz"
      },
      "execution_count": null,
      "outputs": []
    },
    {
      "cell_type": "code",
      "source": [
        "tree = ET.parse(xml_file)\n",
        "root = tree.getroot()\n"
      ],
      "metadata": {
        "id": "hC9NbBhdDpCQ"
      },
      "execution_count": null,
      "outputs": []
    },
    {
      "cell_type": "code",
      "source": [
        "# 2. 원하는 subset 필터링 (예: 앞 50개 이미지만)\n",
        "subset_size = 50\n",
        "images = root.findall(\"image\")\n"
      ],
      "metadata": {
        "id": "ZkhmnijuDqDn"
      },
      "execution_count": null,
      "outputs": []
    },
    {
      "cell_type": "code",
      "source": [
        "import matplotlib.pyplot as plt\n",
        "import cv2\n",
        "import numpy as np"
      ],
      "metadata": {
        "id": "zgP99OZZDsC0"
      },
      "execution_count": null,
      "outputs": []
    },
    {
      "cell_type": "code",
      "source": [
        "# 4. Polyline 데이터 불러오기\n",
        "data = []\n",
        "for img in images:\n",
        "    img_name = img.get(\"name\")\n",
        "    w, h = int(img.get(\"width\")), int(img.get(\"height\"))\n",
        "    for poly in img.findall(\"polyline\"):\n",
        "        label = poly.get(\"label\")\n",
        "        points = [tuple(map(float, p.split(\",\"))) for p in poly.get(\"points\").split(\";\")]\n",
        "        data.append({\"image\": img_name, \"label\": label, \"coords\": points, \"width\": w, \"height\": h})\n"
      ],
      "metadata": {
        "id": "SfcmROFlD54C"
      },
      "execution_count": null,
      "outputs": []
    },
    {
      "cell_type": "code",
      "source": [
        "# 5. 시각화 (예: 첫 이미지)\n",
        "# 유니크한 이미지 이름만 추출\n",
        "unique_images = list(dict.fromkeys([d[\"image\"] for d in data]))\n",
        "\n",
        "# 두 번째 이미지 선택\n",
        "sample_img = unique_images[9]   # 인덱스 1 → 두 번째 이미지\n",
        "sample = [d for d in data if d[\"image\"] == sample_img]\n",
        "\n",
        "canvas = np.ones((sample[0][\"height\"], sample[0][\"width\"], 3), dtype=np.uint8) * 255\n",
        "for d in sample:\n",
        "    pts = np.array(d[\"coords\"], np.int32).reshape((-1,1,2))\n",
        "    color = (0,0,255) if d[\"label\"] == \"Main\" else (0,255,0)\n",
        "    cv2.polylines(canvas, [pts], isClosed=False, color=color, thickness=2)\n",
        "\n",
        "plt.figure(figsize=(6,6))\n",
        "plt.imshow(canvas)\n",
        "plt.title(f\"Polylines from {sample[0]['image']}\")\n",
        "plt.axis(\"off\")\n",
        "plt.show()"
      ],
      "metadata": {
        "colab": {
          "base_uri": "https://localhost:8080/",
          "height": 521
        },
        "id": "9cFfrA5GEAic",
        "outputId": "bc1e386c-6ff6-4d81-a362-5224b171ecec"
      },
      "execution_count": null,
      "outputs": [
        {
          "output_type": "display_data",
          "data": {
            "text/plain": [
              "<Figure size 600x600 with 1 Axes>"
            ],
            "image/png": "[encoded data removed]"
          },
          "metadata": {}
        }
      ]
    },
    {
      "cell_type": "code",
      "source": [
        "import numpy as np\n",
        "\n",
        "def polyline_length(coords):\n",
        "    coords = np.array(coords)\n",
        "    diffs = np.diff(coords, axis=0)   # 연속된 점들 간 차이\n",
        "    seg_lengths = np.linalg.norm(diffs, axis=1)  # 각 segment 길이\n",
        "    return np.sum(seg_lengths)        # 총 길이"
      ],
      "metadata": {
        "id": "zyelFXaiERNj"
      },
      "execution_count": null,
      "outputs": []
    },
    {
      "cell_type": "code",
      "source": [
        "#  이미지 불러오기\n",
        "first_img = root.findall(\"image\")[45] #첫번째 -> [0]\n",
        "img_name = first_img.get(\"name\")\n",
        "print(\"이미지 이름:\", img_name)\n",
        "\n",
        "# Main stem polyline 찾기\n",
        "for poly in first_img.findall(\"polyline\"):\n",
        "    if poly.get(\"label\") == \"Main\":\n",
        "        coords = [tuple(map(float, p.split(\",\"))) for p in poly.get(\"points\").split(\";\")]\n",
        "        length = polyline_length(coords)\n",
        "        print(\"Main stem length:\", length)"
      ],
      "metadata": {
        "colab": {
          "base_uri": "https://localhost:8080/"
        },
        "id": "qi7j5DvsGGWJ",
        "outputId": "ad8e2848-6692-4600-a6e0-ae106adbfd20"
      },
      "execution_count": null,
      "outputs": [
        {
          "output_type": "stream",
          "name": "stdout",
          "text": [
            "이미지 이름: 076-5-R.jpg\n",
            "Main stem length: 1100.2548425628283\n"
          ]
        }
      ]
    },
    {
      "cell_type": "code",
      "source": [
        "import pandas as pd"
      ],
      "metadata": {
        "id": "V7nnODifHkMc"
      },
      "execution_count": null,
      "outputs": []
    },
    {
      "cell_type": "code",
      "source": [
        "# 앞 50개 이미지 대상으로 반복\n",
        "records = []\n",
        "images = root.findall(\"image\")[:50]\n",
        "\n",
        "for img in images:\n",
        "    img_name = img.get(\"name\")\n",
        "    main_length = None\n",
        "\n",
        "    # Main stem 찾기\n",
        "    for poly in img.findall(\"polyline\"):\n",
        "        if poly.get(\"label\") == \"Main\":\n",
        "            coords = [tuple(map(float, p.split(\",\"))) for p in poly.get(\"points\").split(\";\")]\n",
        "            main_length = polyline_length(coords)\n",
        "\n",
        "    records.append({\"image\": img_name, \"main_stem_length\": main_length})\n",
        "\n",
        "# DataFrame 생성\n",
        "df = pd.DataFrame(records)\n",
        "\n",
        "# 결과 확인\n",
        "print(df)\n"
      ],
      "metadata": {
        "colab": {
          "base_uri": "https://localhost:8080/"
        },
        "id": "mN1NIJ6PGqpQ",
        "outputId": "7b750b51-7504-450a-f16b-7e5401d91fea"
      },
      "execution_count": null,
      "outputs": [
        {
          "output_type": "stream",
          "name": "stdout",
          "text": [
            "          image  main_stem_length\n",
            "0   002-5-R.jpg       2088.270897\n",
            "1   003-4-R.jpg       2180.591096\n",
            "2   005-3-R.jpg       2260.958926\n",
            "3   007-4-R.jpg       2676.555621\n",
            "4   008-5-R.jpg       2731.089115\n",
            "5   009-1-R.jpg       2554.713455\n",
            "6   015-1-R.jpg       1260.563400\n",
            "7   016-5-R.jpg       2145.074243\n",
            "8   018-1-R.jpg       2102.761374\n",
            "9   019-2-R.jpg       2414.329911\n",
            "10  020-3-R.jpg       2272.103349\n",
            "11  021-2-R.jpg       1999.328330\n",
            "12  025-2-R.jpg       2214.706705\n",
            "13  028-2-R.jpg       2379.808475\n",
            "14  031-1-R.jpg       1998.811085\n",
            "15  032-5-R.jpg       2111.780149\n",
            "16  033-4-R.jpg       2630.845008\n",
            "17  034-4-R.jpg       2674.066010\n",
            "18  035-3-R.jpg        642.340271\n",
            "19  037-4-R.jpg       2555.578290\n",
            "20  038-2-R.jpg       2289.100233\n",
            "21  039-3-R.jpg       2340.527829\n",
            "22  040-4-R.jpg       2526.368928\n",
            "23  043-1-R.jpg       2240.798818\n",
            "24  044-5-R.jpg       2295.137885\n",
            "25  045-5-R.jpg       2224.325420\n",
            "26  046-5-R.jpg        652.166218\n",
            "27  047-2-R.jpg        622.134614\n",
            "28  050-3-R.jpg        559.404716\n",
            "29  053-4-R.jpg        646.892838\n",
            "30  055-1-R.jpg       1211.059791\n",
            "31  057-3-R.jpg       1073.795150\n",
            "32  060-3-R.jpg       1201.091899\n",
            "33  063-1-R.jpg        725.416301\n",
            "34  064-2-R.jpg       1251.789763\n",
            "35  065-3-R.jpg       1638.063785\n",
            "36  066-2-R.jpg       2393.119550\n",
            "37  067-4-R.jpg       1271.869475\n",
            "38  068-4-R.jpg       2527.931480\n",
            "39  069-1-R.jpg       2523.487075\n",
            "40  070-3-R.jpg       2012.374225\n",
            "41  072-3-R.jpg        451.168065\n",
            "42  073-4-R.jpg        637.743287\n",
            "43  074-4-R.jpg        512.596425\n",
            "44  075-5-R.jpg        665.907471\n",
            "45  076-5-R.jpg       1100.254843\n",
            "46  077-2-R.jpg        666.671320\n",
            "47  078-4-R.jpg        675.870707\n",
            "48  079-1-R.jpg       2509.904164\n",
            "49  080-5-R.jpg        661.414775\n"
          ]
        }
      ]
    },
    {
      "cell_type": "code",
      "source": [
        "import numpy as np\n",
        "\n",
        "def branch_angle_local(stem_coords, branch_coords):\n",
        "    stem_coords = np.array(stem_coords)\n",
        "    branch_coords = np.array(branch_coords)\n",
        "\n",
        "    if len(branch_coords) < 2:\n",
        "        return None\n",
        "\n",
        "    # branch 시작점\n",
        "    b0 = branch_coords[0]\n",
        "\n",
        "    # stem에서 branch 시작점과 가장 가까운 점 찾기\n",
        "    dists = np.linalg.norm(stem_coords - b0, axis=1)\n",
        "    i = np.argmin(dists)\n",
        "\n",
        "    # stem 방향 = i → i+1 (위쪽 방향)\n",
        "    if i >= len(stem_coords)-1:\n",
        "        return None\n",
        "    stem_vec = stem_coords[i+1] - stem_coords[i]\n",
        "\n",
        "    # branch 방향 = 첫 segment\n",
        "    branch_vec = branch_coords[1] - branch_coords[0]\n",
        "\n",
        "    # 내적 → 각도\n",
        "    cos_theta = np.dot(stem_vec, branch_vec) / (np.linalg.norm(stem_vec)*np.linalg.norm(branch_vec))\n",
        "    angle = np.degrees(np.arccos(np.clip(cos_theta, -1.0, 1.0)))\n",
        "    return angle"
      ],
      "metadata": {
        "id": "YGKg8SO1I__k"
      },
      "execution_count": null,
      "outputs": []
    },
    {
      "cell_type": "code",
      "source": [
        "#  이미지 불러오기\n",
        "first_img = root.findall(\"image\")[33] #첫번째 -> [0]\n",
        "img_name = first_img.get(\"name\")\n",
        "print(\"이미지 이름:\", img_name)\n",
        "\n",
        "# Main stem & Branch 좌표 추출\n",
        "stem_coords, branch_list = None, []\n",
        "for poly in first_img.findall(\"polyline\"):\n",
        "    coords = [tuple(map(float, p.split(\",\"))) for p in poly.get(\"points\").split(\";\")]\n",
        "    if poly.get(\"label\") == \"Main\":\n",
        "        stem_coords = coords\n",
        "    elif poly.get(\"label\") == \"Sub\":\n",
        "        branch_list.append(coords)\n",
        "\n",
        "print(\"Number of branches:\", len(branch_list))\n",
        "\n",
        "\n",
        "# branch angle 계산 (y좌표 기준 정렬)\n",
        "branch_info = []\n",
        "for b in branch_list:\n",
        "    angle = branch_angle_local(stem_coords, b)\n",
        "    if angle is not None:\n",
        "        y_start = b[0][1]   # branch 시작점의 y좌표\n",
        "        branch_info.append((y_start, angle))\n",
        "\n",
        "# y좌표 기준으로 정렬 (# y 큰 값(아래) → 작은 값(위) 순서\n",
        "branch_info_sorted = sorted(branch_info, key=lambda x: x[0], reverse=True)\n",
        "\n",
        "angles_sorted = [angle for _, angle in branch_info_sorted]\n",
        "\n",
        "print(\"Branch angles (sorted by y):\", angles_sorted)\n",
        "print(\"Mean branch angle:\", np.mean(angles_sorted) if angles_sorted else None)"
      ],
      "metadata": {
        "colab": {
          "base_uri": "https://localhost:8080/"
        },
        "id": "yjdfLZmkHpuM",
        "outputId": "5fa07940-72d2-4d92-c964-ece4c2d3b202"
      },
      "execution_count": null,
      "outputs": [
        {
          "output_type": "stream",
          "name": "stdout",
          "text": [
            "이미지 이름: 063-1-R.jpg\n",
            "Number of branches: 3\n",
            "Branch angles (sorted by y): [np.float64(40.646496822772505), np.float64(70.60335043344594), np.float64(71.43338804821671)]\n",
            "Mean branch angle: 60.894411768145055\n"
          ]
        }
      ]
    },
    {
      "cell_type": "code",
      "source": [
        "images = root.findall(\"image\")[:50]   # 앞 50개만\n",
        "\n",
        "rows = []\n",
        "for img in images:\n",
        "    img_name = img.get(\"name\")\n",
        "\n",
        "    # 좌표 수집\n",
        "    stem_coords, branch_list = None, []\n",
        "    for poly in img.findall(\"polyline\"):\n",
        "        pts = [tuple(map(float, p.split(\",\"))) for p in poly.get(\"points\").split(\";\")]\n",
        "        label = poly.get(\"label\")\n",
        "        if label in (\"Main\", \"main\", \"MAIN\"):\n",
        "            stem_coords = pts\n",
        "        elif label in (\"Sub\", \"Branch\", \"sub\", \"branch\"):\n",
        "            branch_list.append(pts)\n",
        "\n",
        "    # 각도 리스트 (branch 시작점 y로 아래→위 정렬하고 싶으면 reverse=True)\n",
        "    info = []\n",
        "    for b in branch_list:\n",
        "        ang = branch_angle_local(stem_coords, b)\n",
        "        if ang is not None:\n",
        "            y_start = b[0][1]   # 라벨링을 항상 줄기 접합부부터 클릭했다는 가정\n",
        "            info.append((y_start, ang))\n",
        "\n",
        "    # 아래(큰 y) → 위(작은 y) 순 정렬\n",
        "    info_sorted = sorted(info, key=lambda x: x[0], reverse=True)\n",
        "    angles_sorted = [a for _, a in info_sorted]\n",
        "\n",
        "    rows.append({\n",
        "        \"image\": img_name,\n",
        "        \"branch_count\": len(branch_list),\n",
        "        \"branch_angle_mean\": float(np.mean(angles_sorted)) if angles_sorted else np.nan,\n",
        "        \"branch_angles_bottom2top\": \",\".join(f\"{a:.2f}\" for a in angles_sorted)  # 확인용(옵션)\n",
        "    })\n",
        "\n",
        "df_angles = pd.DataFrame(rows)\n"
      ],
      "metadata": {
        "id": "fPn4Wa-VKzyB"
      },
      "execution_count": null,
      "outputs": []
    },
    {
      "cell_type": "code",
      "source": [
        "# === 기존 df와 병합 ===\n",
        "# df : 이미 존재(열: image, main_stem_length) — 없으면 df_angles만 사용하세요.\n",
        "df_final = df.merge(df_angles, on=\"image\", how=\"left\")\n",
        "print(df_final.head())"
      ],
      "metadata": {
        "colab": {
          "base_uri": "https://localhost:8080/"
        },
        "id": "sJu8ZJIIQ4Dk",
        "outputId": "9c26d5cc-4675-43e4-dda1-5f5da13fc6ef"
      },
      "execution_count": null,
      "outputs": [
        {
          "output_type": "stream",
          "name": "stdout",
          "text": [
            "         image  main_stem_length  branch_count  branch_angle_mean  \\\n",
            "0  002-5-R.jpg       2088.270897             6          30.720987   \n",
            "1  003-4-R.jpg       2180.591096            12          36.984893   \n",
            "2  005-3-R.jpg       2260.958926            10          39.289078   \n",
            "3  007-4-R.jpg       2676.555621             5          42.803901   \n",
            "4  008-5-R.jpg       2731.089115            11          35.277463   \n",
            "\n",
            "                            branch_angles_bottom2top  \n",
            "0                26.56,45.87,35.33,25.83,30.99,19.75  \n",
            "1  37.53,34.98,19.06,59.53,52.56,53.63,36.13,34.7...  \n",
            "2  38.78,61.02,42.41,55.71,49.10,38.77,36.36,18.8...  \n",
            "3                      40.96,44.41,37.25,31.56,59.84  \n",
            "4  67.02,37.85,50.51,40.50,35.91,34.04,34.18,28.0...  \n"
          ]
        }
      ]
    },
    {
      "cell_type": "code",
      "source": [
        "# 저장\n",
        "files.download(\"phenotype_features_50.csv\")\n",
        "print(\"Saved -> phenotype_features_50.csv\")"
      ],
      "metadata": {
        "colab": {
          "base_uri": "https://localhost:8080/",
          "height": 35
        },
        "id": "R0bkrhnKQ4EW",
        "outputId": "3d991562-5da8-4b0b-ce19-94f2cca310ad"
      },
      "execution_count": null,
      "outputs": [
        {
          "output_type": "display_data",
          "data": {
            "text/plain": [
              "<IPython.core.display.Javascript object>"
            ],
            "application/javascript": [
              "\n",
              "    async function download(id, filename, size) {\n",
              "      if (!google.colab.kernel.accessAllowed) {\n",
              "        return;\n",
              "      }\n",
              "      const div = document.createElement('div');\n",
              "      const label = document.createElement('label');\n",
              "      label.textContent = `Downloading \"${filename}\": `;\n",
              "      div.appendChild(label);\n",
              "      const progress = document.createElement('progress');\n",
              "      progress.max = size;\n",
              "      div.appendChild(progress);\n",
              "      document.body.appendChild(div);\n",
              "\n",
              "      const buffers = [];\n",
              "      let downloaded = 0;\n",
              "\n",
              "      const channel = await google.colab.kernel.comms.open(id);\n",
              "      // Send a message to notify the kernel that we're ready.\n",
              "      channel.send({})\n",
              "\n",
              "      for await (const message of channel.messages) {\n",
              "        // Send a message to notify the kernel that we're ready.\n",
              "        channel.send({})\n",
              "        if (message.buffers) {\n",
              "          for (const buffer of message.buffers) {\n",
              "            buffers.push(buffer);\n",
              "            downloaded += buffer.byteLength;\n",
              "            progress.value = downloaded;\n",
              "          }\n",
              "        }\n",
              "      }\n",
              "      const blob = new Blob(buffers, {type: 'application/binary'});\n",
              "      const a = document.createElement('a');\n",
              "      a.href = window.URL.createObjectURL(blob);\n",
              "      a.download = filename;\n",
              "      div.appendChild(a);\n",
              "      a.click();\n",
              "      div.remove();\n",
              "    }\n",
              "  "
            ]
          },
          "metadata": {}
        },
        {
          "output_type": "display_data",
          "data": {
            "text/plain": [
              "<IPython.core.display.Javascript object>"
            ],
            "application/javascript": [
              "download(\"download_79ad589b-69c8-4e06-a1ea-c14292ead840\", \"phenotype_features_50.csv\", 5693)"
            ]
          },
          "metadata": {}
        },
        {
          "output_type": "stream",
          "name": "stdout",
          "text": [
            "Saved -> phenotype_features_50.csv\n"
          ]
        }
      ]
    },
    {
      "cell_type": "code",
      "source": [
        "Max width (전체 최대 너비)\n",
        "\n",
        "모든 좌표의 max(x) - min(x).\n",
        "\n",
        "Left / Right width & Symmetry\n",
        "\n",
        "정렬된 좌표에서 줄기 중심선(= x=0)을 기준으로 왼쪽/오른쪽 최대폭,\n",
        "\n",
        "symmetry = |right - left| / (right + left).\n",
        "\n",
        "Width profile (세로 위치별 폭 분포)\n",
        "\n",
        "줄기 높이(y)를 균등 구간으로 나눠 각 구간의 max(x)-min(x) → 아래쪽이 더 퍼졌는지, 위쪽이 퍼졌는지 분석 가능."
      ],
      "metadata": {
        "id": "TD_8H4_lPIXE"
      },
      "execution_count": null,
      "outputs": []
    },
    {
      "cell_type": "code",
      "source": [
        "import numpy as np\n",
        "\n",
        "def point_to_polyline_min_dist(p, poly):\n",
        "    p = np.asarray(p, dtype=float)\n",
        "    poly = np.asarray(poly, dtype=float)\n",
        "    if len(poly) == 1:\n",
        "        return float(np.linalg.norm(p - poly[0]))\n",
        "    dmin = np.inf\n",
        "    for i in range(len(poly) - 1):\n",
        "        a, b = poly[i], poly[i+1]\n",
        "        ab = b - a\n",
        "        t = np.clip(np.dot(p - a, ab) / (np.dot(ab, ab) + 1e-12), 0.0, 1.0)\n",
        "        proj = a + t * ab\n",
        "        d = np.linalg.norm(p - proj)\n",
        "        if d < dmin:\n",
        "            dmin = d\n",
        "    return float(dmin)\n",
        "\n",
        "def local_stem_vec_at_point(stem, p):\n",
        "    stem = np.asarray(stem, dtype=float)\n",
        "    dists = np.linalg.norm(stem - p, axis=1)\n",
        "    i = int(np.argmin(dists))\n",
        "    if i >= len(stem) - 1:\n",
        "        i = max(0, len(stem) - 2)\n",
        "    return stem[i+1] - stem[i]\n",
        "\n",
        "def is_primary_branch_strict(stem_coords, branch_coords, all_branches,\n",
        "                             tol_attach=8.0, tol_other=8.0, margin=1.5, angle_min_deg=10.0):\n",
        "    \"\"\"\n",
        "    1) stem에 충분히 가까이 붙음 (<= tol_attach)\n",
        "    2) 다른 가지보다 stem에 더 가깝거나, 다른 가지와는 tol_other 이상 떨어짐\n",
        "    3) b0->b1로 갈수록 stem과의 거리가 증가 (줄기를 따라가지 않음)\n",
        "    4) 줄기 국소 벡터와 가지 첫 벡터의 각도가 angle_min 이상\n",
        "    \"\"\"\n",
        "    stem = np.asarray(stem_coords, dtype=float)\n",
        "    br   = np.asarray(branch_coords, dtype=float)\n",
        "    if len(stem) < 2 or len(br) < 2:\n",
        "        return False\n",
        "\n",
        "    b0, b1 = br[0], br[1]\n",
        "\n",
        "    # (1) stem 부착 거리\n",
        "    d_stem = point_to_polyline_min_dist(b0, stem)\n",
        "    if d_stem > tol_attach:\n",
        "        return False\n",
        "\n",
        "    # (2) 다른 가지들과의 거리 비교\n",
        "    d_other_min = np.inf\n",
        "    for other in all_branches:\n",
        "        if other is branch_coords:  # 자기 자신은 제외\n",
        "            continue\n",
        "        d_other_min = min(d_other_min, point_to_polyline_min_dist(b0, other))\n",
        "    # stem 쪽이 더 \"가깝다\" 또는 타 가지와 충분히 떨어져 있다\n",
        "    if d_other_min < np.inf:\n",
        "        if not (d_stem * margin <= d_other_min or d_other_min >= tol_other):\n",
        "            return False\n",
        "\n",
        "    # (3) stem으로부터 멀어지는지 검사\n",
        "    d0 = point_to_polyline_min_dist(b0, stem)\n",
        "    d1 = point_to_polyline_min_dist(b1, stem)\n",
        "    if not (d1 > d0):  # 줄기를 따라가면 d1 ≤ d0\n",
        "        return False\n",
        "\n",
        "    # (4) 최소 각도 조건\n",
        "    stem_vec   = local_stem_vec_at_point(stem, b0)\n",
        "    branch_vec = b1 - b0\n",
        "    denom = np.linalg.norm(stem_vec) * np.linalg.norm(branch_vec)\n",
        "    if denom == 0:\n",
        "        return False\n",
        "    cos_t = np.dot(stem_vec, branch_vec) / denom\n",
        "    angle = float(np.degrees(np.arccos(np.clip(cos_t, -1.0, 1.0))))\n",
        "    if angle < angle_min_deg:\n",
        "        return False\n",
        "\n",
        "    return True\n"
      ],
      "metadata": {
        "id": "w1XWOUFvtODm"
      },
      "execution_count": null,
      "outputs": []
    },
    {
      "cell_type": "code",
      "source": [
        "def branch_angle_local(stem_coords, branch_coords):\n",
        "    stem_coords = np.array(stem_coords, dtype=float)\n",
        "    branch_coords = np.array(branch_coords, dtype=float)\n",
        "\n",
        "    if len(branch_coords) < 2 or len(stem_coords) < 2:\n",
        "        return None\n",
        "\n",
        "    b0 = branch_coords[0]\n",
        "    # stem에서 가장 가까운 stem 점\n",
        "    dists = np.linalg.norm(stem_coords - b0, axis=1)\n",
        "    i = int(np.argmin(dists))\n",
        "    if i >= len(stem_coords) - 1:\n",
        "        return None\n",
        "\n",
        "    stem_vec   = stem_coords[i+1] - stem_coords[i]\n",
        "    branch_vec = branch_coords[1] - branch_coords[0]\n",
        "\n",
        "    denom = np.linalg.norm(stem_vec) * np.linalg.norm(branch_vec)\n",
        "    if denom == 0:\n",
        "        return None\n",
        "\n",
        "    cos_t = np.dot(stem_vec, branch_vec) / denom\n",
        "    return float(np.degrees(np.arccos(np.clip(cos_t, -1.0, 1.0))))\n"
      ],
      "metadata": {
        "id": "NDqoeHEbtO3i"
      },
      "execution_count": null,
      "outputs": []
    },
    {
      "cell_type": "code",
      "source": [
        "rows = []\n",
        "images = root.findall(\"image\")[:50]\n",
        "\n",
        "for img in images:\n",
        "    img_name = img.get(\"name\")\n",
        "\n",
        "    stem_coords, branch_list = None, []\n",
        "    for poly in img.findall(\"polyline\"):\n",
        "        pts = [tuple(map(float, p.split(\",\"))) for p in poly.get(\"points\").split(\";\")]\n",
        "        label = poly.get(\"label\")\n",
        "        if label in (\"Main\",\"main\",\"MAIN\"):\n",
        "            stem_coords = pts\n",
        "        elif label in (\"Sub\",\"Branch\",\"sub\",\"branch\"):\n",
        "            branch_list.append(pts)\n",
        "\n",
        "    angles = []\n",
        "    for b in branch_list:\n",
        "        # 강화된 1차-가지 판정\n",
        "        if not is_primary_branch_strict(stem_coords, b, branch_list,\n",
        "                                        tol_attach=8.0, tol_other=8.0,\n",
        "                                        margin=1.5, angle_min_deg=10.0):\n",
        "            continue\n",
        "        ang = branch_angle_local(stem_coords, b)\n",
        "        if ang is not None:\n",
        "            angles.append(ang)\n",
        "\n",
        "    rows.append({\n",
        "        \"image\": img_name,\n",
        "        \"primary_branch_count\": len(angles),                       # 1차 가지 개수\n",
        "        \"primary_branch_angle_mean\": np.mean(angles) if angles else np.nan,\n",
        "        \"primary_branch_angles\": \",\".join(f\"{a:.2f}\" for a in angles)  # 확인용\n",
        "    })\n",
        "\n",
        "df_primary = pd.DataFrame(rows)\n"
      ],
      "metadata": {
        "id": "M8JPUIkgtQu-"
      },
      "execution_count": null,
      "outputs": []
    },
    {
      "cell_type": "code",
      "source": [
        "print(df_primary)"
      ],
      "metadata": {
        "id": "jBYl52INtVoA",
        "outputId": "aa1b68fa-625b-4d17-cf05-79f04170697d",
        "colab": {
          "base_uri": "https://localhost:8080/"
        }
      },
      "execution_count": null,
      "outputs": [
        {
          "output_type": "stream",
          "name": "stdout",
          "text": [
            "          image  primary_branch_count  primary_branch_angle_mean  \\\n",
            "0   002-5-R.jpg                     6                  30.720987   \n",
            "1   003-4-R.jpg                    12                  36.984893   \n",
            "2   005-3-R.jpg                    10                  39.289078   \n",
            "3   007-4-R.jpg                     5                  42.803901   \n",
            "4   008-5-R.jpg                    11                  35.277463   \n",
            "5   009-1-R.jpg                     8                  44.559699   \n",
            "6   015-1-R.jpg                     9                  47.130525   \n",
            "7   016-5-R.jpg                     7                  49.540944   \n",
            "8   018-1-R.jpg                    12                  46.818976   \n",
            "9   019-2-R.jpg                    10                  36.084074   \n",
            "10  020-3-R.jpg                     3                  42.133178   \n",
            "11  021-2-R.jpg                     7                  47.255137   \n",
            "12  025-2-R.jpg                     9                  62.770980   \n",
            "13  028-2-R.jpg                     8                  38.102739   \n",
            "14  031-1-R.jpg                     4                  30.367034   \n",
            "15  032-5-R.jpg                     6                  51.922516   \n",
            "16  033-4-R.jpg                    10                  37.470030   \n",
            "17  034-4-R.jpg                     7                  33.659753   \n",
            "18  035-3-R.jpg                     5                  27.284071   \n",
            "19  037-4-R.jpg                    13                  33.961288   \n",
            "20  038-2-R.jpg                     7                  36.214508   \n",
            "21  039-3-R.jpg                     7                  48.462304   \n",
            "22  040-4-R.jpg                     8                  43.062286   \n",
            "23  043-1-R.jpg                     8                  39.343970   \n",
            "24  044-5-R.jpg                     6                  54.276503   \n",
            "25  045-5-R.jpg                     3                  23.870867   \n",
            "26  046-5-R.jpg                     6                  36.465205   \n",
            "27  047-2-R.jpg                     7                  42.415880   \n",
            "28  050-3-R.jpg                     6                  53.479573   \n",
            "29  053-4-R.jpg                     7                  61.468600   \n",
            "30  055-1-R.jpg                     6                  43.366607   \n",
            "31  057-3-R.jpg                     7                  30.130057   \n",
            "32  060-3-R.jpg                    12                  41.583054   \n",
            "33  063-1-R.jpg                     2                  55.624924   \n",
            "34  064-2-R.jpg                     7                  27.593434   \n",
            "35  065-3-R.jpg                     4                  30.460895   \n",
            "36  066-2-R.jpg                    10                  30.935860   \n",
            "37  067-4-R.jpg                     9                  29.864328   \n",
            "38  068-4-R.jpg                     9                  39.171152   \n",
            "39  069-1-R.jpg                     8                  44.194008   \n",
            "40  070-3-R.jpg                    13                  52.632687   \n",
            "41  072-3-R.jpg                     9                  56.231031   \n",
            "42  073-4-R.jpg                     5                  61.752283   \n",
            "43  074-4-R.jpg                     4                  41.014707   \n",
            "44  075-5-R.jpg                     3                  55.472376   \n",
            "45  076-5-R.jpg                     5                  57.360113   \n",
            "46  077-2-R.jpg                     6                  58.625394   \n",
            "47  078-4-R.jpg                     6                  49.296400   \n",
            "48  079-1-R.jpg                     3                  66.543843   \n",
            "49  080-5-R.jpg                     4                  60.420662   \n",
            "\n",
            "                                primary_branch_angles  \n",
            "0                 25.83,45.87,19.75,30.99,26.56,35.33  \n",
            "1   34.98,53.63,36.13,52.56,19.06,34.79,22.76,28.9...  \n",
            "2   34.48,36.36,38.78,61.02,42.41,55.71,49.10,38.7...  \n",
            "3                       59.84,44.41,40.96,37.25,31.56  \n",
            "4   10.40,34.04,34.18,28.03,20.60,29.03,40.50,37.8...  \n",
            "5     50.48,76.11,59.90,43.76,47.26,17.38,14.87,46.73  \n",
            "6   58.31,19.03,53.72,46.67,53.99,34.70,22.84,64.1...  \n",
            "7           49.44,76.71,45.63,57.93,52.20,27.69,37.19  \n",
            "8   18.34,37.50,45.39,31.56,43.42,52.21,74.40,67.8...  \n",
            "9   16.80,62.66,49.59,47.37,46.35,38.48,33.81,31.9...  \n",
            "10                                  24.76,43.37,58.27  \n",
            "11          30.65,50.93,43.46,48.99,50.83,43.67,62.27  \n",
            "12  81.04,63.36,46.12,46.12,55.96,53.73,40.76,95.3...  \n",
            "13    44.00,39.62,28.57,41.80,53.88,45.43,38.86,12.66  \n",
            "14                            37.79,48.97,10.15,24.56  \n",
            "15                41.28,60.01,72.19,43.97,60.62,33.47  \n",
            "16  45.93,54.15,27.17,40.34,41.54,36.55,20.52,37.1...  \n",
            "17          36.00,51.84,19.48,14.66,36.78,33.02,43.84  \n",
            "18                      31.85,24.13,33.45,28.35,18.64  \n",
            "19  45.92,33.19,41.32,17.75,22.51,18.57,39.84,48.4...  \n",
            "20          37.46,49.64,38.45,38.60,33.94,17.85,37.56  \n",
            "21          46.64,39.41,22.26,78.45,73.33,11.55,67.60  \n",
            "22    38.41,66.23,43.72,46.34,57.01,25.40,38.05,29.33  \n",
            "23    42.12,40.36,21.90,25.11,38.83,33.36,48.58,64.49  \n",
            "24                27.97,51.65,80.21,55.05,51.22,59.55  \n",
            "25                                  41.15,19.71,10.75  \n",
            "26                49.49,39.94,26.48,60.90,19.03,22.95  \n",
            "27          40.86,51.77,54.77,44.55,46.26,35.27,23.43  \n",
            "28                39.79,32.50,38.11,83.29,60.05,67.15  \n",
            "29          37.26,60.82,49.01,61.54,40.17,84.91,96.56  \n",
            "30                65.44,23.20,20.14,28.19,55.21,68.02  \n",
            "31          19.25,22.34,31.68,37.41,38.34,42.54,19.35  \n",
            "32  33.51,78.40,47.81,75.98,25.94,50.61,14.45,45.3...  \n",
            "33                                        70.60,40.65  \n",
            "34          39.01,35.61,12.28,19.66,35.06,12.55,38.99  \n",
            "35                            33.48,32.71,26.26,29.40  \n",
            "36  38.90,14.13,24.46,34.67,43.93,43.75,31.08,20.6...  \n",
            "37  29.87,30.63,29.71,16.61,40.07,48.58,29.42,19.4...  \n",
            "38  50.64,33.43,38.37,28.66,22.47,25.15,39.30,57.9...  \n",
            "39    17.87,47.68,30.35,38.61,32.02,59.67,56.49,70.86  \n",
            "40  49.28,42.33,44.17,61.23,39.71,66.64,42.29,56.1...  \n",
            "41  68.60,48.11,70.87,62.68,50.86,59.37,53.52,52.5...  \n",
            "42                      87.61,32.67,76.23,52.18,60.07  \n",
            "43                            41.11,35.94,37.01,50.01  \n",
            "44                                  41.69,66.25,58.48  \n",
            "45                      50.44,60.20,61.30,64.47,50.38  \n",
            "46                45.85,58.61,62.38,70.37,68.97,45.58  \n",
            "47                29.67,62.26,69.19,42.98,56.46,35.22  \n",
            "48                                  68.07,62.95,68.61  \n",
            "49                            86.56,52.38,40.37,62.36  \n"
          ]
        }
      ]
    },
    {
      "cell_type": "code",
      "source": [],
      "metadata": {
        "id": "tA_T9_2VtXHe"
      },
      "execution_count": null,
      "outputs": []
    }
  ]
}